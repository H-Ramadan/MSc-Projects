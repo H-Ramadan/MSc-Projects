{
 "cells": [
  {
   "cell_type": "markdown",
   "id": "ff2d0703-1cf5-442a-9730-5b054a09ec32",
   "metadata": {},
   "source": [
    "# Part 2: Email Behaviour Data Analysis"
   ]
  },
  {
   "cell_type": "markdown",
   "id": "94d3b813-a930-4d20-949d-557a59bd8724",
   "metadata": {
    "tags": []
   },
   "source": [
    "---"
   ]
  },
  {
   "cell_type": "markdown",
   "id": "d9389eca-4427-450f-b86d-2954730560af",
   "metadata": {
    "tags": []
   },
   "source": [
    "### Install Python packages (pip only)"
   ]
  },
  {
   "cell_type": "code",
   "execution_count": 1,
   "id": "561e7d2b-d506-4b97-9e0a-4643d5ef91d0",
   "metadata": {},
   "outputs": [],
   "source": [
    "#e.g., %pip install networkx\n"
   ]
  },
  {
   "cell_type": "markdown",
   "id": "661a426f-00b3-4eab-b8ff-3897a5bf2e87",
   "metadata": {},
   "source": [
    "### Import Python packages"
   ]
  },
  {
   "cell_type": "code",
   "execution_count": 2,
   "id": "9fde3e57-85f4-46f2-9999-96434563cc69",
   "metadata": {},
   "outputs": [],
   "source": [
    "import networkx as nx\n",
    "import json"
   ]
  },
  {
   "cell_type": "markdown",
   "id": "31f7e832-7044-47ce-84b0-610a465e6b1d",
   "metadata": {},
   "source": [
    "---"
   ]
  },
  {
   "cell_type": "markdown",
   "id": "6be69931-f66d-490c-8f4f-3d8016c72c13",
   "metadata": {
    "tags": []
   },
   "source": [
    "### Task 1 of 1 \n",
    "\n",
    "Examine the file \"emails_cmt224.edgelist\" which represents email behaviour at an organisation. Each line contains two numbers, 𝑢 and 𝑣, separated by a blank space. Consider each number as an identifier for an individual in an organisation, with the space on each line representing that the individual, 𝑢, sent at least one email to the another individual, 𝑣, at some point. Model the data using an appropriate network representation and answer the following questions:"
   ]
  },
  {
   "cell_type": "markdown",
   "id": "a88f1282-c982-44a1-943b-a1e58d6cfd5f",
   "metadata": {
    "tags": []
   },
   "source": [
    "##### Q1. Using the largest, strongly connected component (where at least one path exists between each individual and all others), could the connectivity be suggested to be reflective of a small world phenomenon in comparison to a comparative random network?"
   ]
  },
  {
   "cell_type": "code",
   "execution_count": 3,
   "id": "84bbaf04-0d29-457c-9c5c-83da2ce1a57a",
   "metadata": {},
   "outputs": [
    {
     "name": "stdout",
     "output_type": "stream",
     "text": [
      "Average shortest path for the largest connected compoenent: 2.55\n",
      "Average clustring in the strongly connected componenet: 0.39\n",
      "Average shortest path for the random network: 2.27\n",
      "Average clustring in the random network: 0.038\n"
     ]
    }
   ],
   "source": [
    "#CODE:\n",
    "emailsGraph= nx.read_edgelist('emails_cmt224.edgelist', create_using=nx.DiGraph)\n",
    "\n",
    "emailsGraphSC = sorted(nx.strongly_connected_components(emailsGraph), key= len, reverse=True)\n",
    "largestconnected = emailsGraph.subgraph(emailsGraphSC[0]).copy()\n",
    "\n",
    "randomNetwork = nx.gnm_random_graph(largestconnected.number_of_nodes(), largestconnected.number_of_edges(), directed=True, seed = 123)\n",
    "\n",
    "largestconnectedShort = nx.average_shortest_path_length(largestconnected) \n",
    "largestconnectedCluster = nx.average_clustering(largestconnected)\n",
    "randomNetworkShort = nx.average_shortest_path_length(randomNetwork) \n",
    "randomNetworkCluster = nx.average_clustering(randomNetwork)\n",
    "\n",
    "\n",
    "print('Average shortest path for the largest connected compoenent: %.2f'%largestconnectedShort)\n",
    "print('Average clustring in the strongly connected componenet: %.2f'%largestconnectedCluster)\n",
    "\n",
    "print('Average shortest path for the random network: %.2f'%randomNetworkShort)\n",
    "print('Average clustring in the random network: %.3f'%randomNetworkCluster)\n",
    "\n"
   ]
  },
  {
   "cell_type": "raw",
   "id": "555d8e2e-b511-44d9-9e66-abbcfd72e813",
   "metadata": {},
   "source": [
    "Approach:\n",
    "In order to conclude if the connectivity is reflective of a small world phenomenon relative to the random network, the following has been done/caluclated:\n",
    "1. Random network stored.\n",
    "2. Average shortest path for the largest connected compoenent\n",
    "3. Average clustring in the strongly connected componenet\n",
    "4. Average shortest path for the random network\n",
    "5. Average clustring in the random network\n",
    "ANSWER: \n",
    "In order for a graph to be represntative of the small world it typically needs to have a higher average shortet path and a higher clustring in comparison to the random network.\n",
    "According the calculations, the average clustring of the strongly connected compoenent (0.39) is bigger than the average clustring of the the random netwrok, however, \n",
    "the average shortes path in the largest connected componenet is only fractionally bigger than the random network. But since the clustring is significantlly bigger we could conclude \n",
    "that the largest connected componenet is reflective of the samll world phenomenon"
   ]
  },
  {
   "cell_type": "markdown",
   "id": "e2fa5455-293e-4b4b-b084-71d0cb31d40b",
   "metadata": {},
   "source": [
    "##### Q2. Are the majority of connections in the entire network mutual connections where emails have been exchanged at least once, or asymmetric? In comparison, how many individuals have a higher or lower ratio of mutual connections than the entire network?"
   ]
  },
  {
   "cell_type": "code",
   "execution_count": 4,
   "id": "775143b3-138d-4851-b14f-8119c2b18a9d",
   "metadata": {},
   "outputs": [
    {
     "name": "stdout",
     "output_type": "stream",
     "text": [
      "Individualy higher mutual connectesion than the entier network:  408\n",
      "Individualy lower mutual connectesion than the entier network:  578\n"
     ]
    }
   ],
   "source": [
    "#CODE:\n",
    "overallMututal = nx.reciprocity(emailsGraph)\n",
    "eachPerson = nx.reciprocity(emailsGraph,emailsGraph.nodes())\n",
    "count = 0\n",
    "\n",
    "for node,val in eachPerson.items():\n",
    "    if val >= overallMututal:\n",
    "        count +=1\n",
    "        \n",
    "print('Individualy higher mutual connectesion than the entier network: ', count)\n",
    "print('Individualy lower mutual connectesion than the entier network: ' , len(eachPerson) - count)\n"
   ]
  },
  {
   "cell_type": "raw",
   "id": "1aac5f8e-2fa2-485c-b163-621f73a91a58",
   "metadata": {},
   "source": [
    "Approach: \n",
    "First we calculate the overall reciprocity of the graph, then for each node to see the mutuality of each person. we compare the two values to carry the comparrsion\n",
    "ANSWER: \n",
    "there is 408 inidviduals with higher connections than the entier network and 578 lower mutual connections than the entier network. As such, No, the majority\n",
    "of connections in the entier network are not mutual connections and are asymmetric, but a great percentage of it is mutual.\n",
    "--Another approach would be to check nodes via for loops for connections/ and check edges, however, nx.reciporicty is optimized and offer better perfomance at scale. "
   ]
  },
  {
   "cell_type": "markdown",
   "id": "d0e1f548-d737-4899-8927-89dd8f9dd4a8",
   "metadata": {},
   "source": [
    "##### Q3. Considering induced, connected subgraphs of 3 individuals (triads) only, calculate the ratio of triads containing ONLY mutual connections in the entire network (i.e., the number of triad occurrences with only edges pointing in both directions, triads 201 and 300 / the total number of triad occurrences). From this, determine whether this ratio is reflective (i.e., of similar value) to the overall ratio of mutual connections in the network. What does this suggest about how mutual connections are connected together in the network?"
   ]
  },
  {
   "cell_type": "code",
   "execution_count": 5,
   "id": "f93ce721-0797-4803-b06b-d3e0a0a04027",
   "metadata": {},
   "outputs": [
    {
     "name": "stdout",
     "output_type": "stream",
     "text": [
      "ratio of triads 201 and 300 out of 100 percent is:  32.31\n"
     ]
    }
   ],
   "source": [
    "#CODE:\n",
    "def calculate_normalised_connected_triadic_census(graph):\n",
    "    # Calculate the triadic census\n",
    "    tc = nx.triadic_census(graph)\n",
    "    del tc[\"003\"]\n",
    "    del tc[\"012\"]\n",
    "    del tc[\"102\"]\n",
    "    factor = 1.0 / sum(tc.values())\n",
    "    for k in tc:\n",
    "        tc[k] = tc[k] * factor\n",
    "    return tc\n",
    "\n",
    "mydict = calculate_normalised_connected_triadic_census(emailsGraph)\n",
    "totalTargetTriads = mydict['201'] + mydict['300']\n",
    "print('ratio of triads 201 and 300 out of 100 percent is:  %.2f' %(totalTargetTriads* 100))\n"
   ]
  },
  {
   "cell_type": "raw",
   "id": "660fe970-1267-4d50-b34e-392fa6d14b6a",
   "metadata": {},
   "source": [
    "Approach:\n",
    "using triadic census we a calculation has been made to to get a dictionary of triads, then the ratio of the target triads is summed.\n",
    "ANSWER: \n",
    "the results (ration 32.31% of traids are 201 and 300) suggest that only a third of the connections is mutual which might indicate that the network is asymytreic."
   ]
  },
  {
   "cell_type": "markdown",
   "id": "00cddf41-8d3e-4177-8aba-c7a322a8ff58",
   "metadata": {},
   "source": [
    "---\n",
    "### Task 2 of 2\n",
    "\n",
    "Examine the JSON file \"emails_cmt224_departments.json\" (departments file). Keys in the departments file represent individuals using the same ids as in the \"emails_cmt224.edgelist\" file in Part 2, Task 1 and the values represent a department id that the individual can be attributed to. Using the contents of the departments file in combination with the network in Part 2, Task 1, answer the following questions:"
   ]
  },
  {
   "cell_type": "markdown",
   "id": "754c1e34-252d-4786-9b57-0dfe9e76ec5c",
   "metadata": {},
   "source": [
    "##### Q1. Using the connections that individuals have in the network, are they more likely to mix with others in their department or those with a similar number of connections?"
   ]
  },
  {
   "cell_type": "code",
   "execution_count": 6,
   "id": "52119076-b214-41ed-a0b0-11a3d6e0e2a7",
   "metadata": {},
   "outputs": [
    {
     "name": "stdout",
     "output_type": "stream",
     "text": [
      "Degree assortativity: 0.029\n",
      "Departement assortativity: 0.31\n"
     ]
    }
   ],
   "source": [
    "#CODE:\n",
    "#for user i check the emails, then i count the number of recpeiant in same depratment or not \n",
    "emailsDepartments = json.load(open('emails_cmt224_departments.json'))\n",
    "for node in emailsGraph:\n",
    "    emailsGraph.nodes[node]['department'] = emailsDepartments[node]\n",
    "\n",
    "degree = nx.degree_assortativity_coefficient(emailsGraph)\n",
    "attr = nx.attribute_assortativity_coefficient(emailsGraph, 'department')\n",
    "\n",
    "print('Degree assortativity: %.3f'%degree)\n",
    "print('Departement assortativity: %.2f'%attr)\n",
    "\n"
   ]
  },
  {
   "cell_type": "raw",
   "id": "97f2b5cb-9d52-4787-8e8b-ef9aa29d1c8e",
   "metadata": {},
   "source": [
    "Approach: \n",
    "after loding and adding a depratment attribute to the emails graph, the degree assortativty coefficient is callculated and the attribute assortativity coefficent is calucalted\n",
    "for the depratment to determine wither inidividuals more likely to mix with other in their department or thoes with similar number of connections\n",
    "ANSWER: \n",
    "from the caluclation we could conclude that individual are more likekly to mix with others in their department as it's attribute assortativity coefficent (0.31) is bigger than\n",
    "than the degree assortativity coefficent (0.029)\n"
   ]
  },
  {
   "cell_type": "markdown",
   "id": "3a83c73f-b498-49c4-abfb-46b52e34427b",
   "metadata": {
    "tags": []
   },
   "source": [
    "##### Q2. Are all departments with 10 or more members more tightly connected amongst themselves in comparison to all individuals across the overall network irrespective of their department?  Where in this context, 'more tightly connected' is defined as having more mutual AND clustered connections. In addition to answering the overall question as yes or no, provide a list of departments this is true for (if any) and not true for (if any)."
   ]
  },
  {
   "cell_type": "code",
   "execution_count": 7,
   "id": "70af8529-4fce-4910-a4b0-449862f1b96a",
   "metadata": {},
   "outputs": [
    {
     "name": "stdout",
     "output_type": "stream",
     "text": [
      "Top departments count is:  28  And they are:  dict_keys(['1', '15', '3', '0', '7', '14', '16', '20', '19', '36', '21', '38', '22', '34', '17', '37', '35', '10', '4', '5', '13', '6', '9', '8', '23', '11', '2', '27'])\n",
      "Tightly connected depeartments count:  21  And they are:  ['0', '7', '16', '20', '19', '36', '21', '38', '22', '34', '17', '37', '35', '10', '4', '5', '13', '9', '8', '11', '2']\n",
      "not tightly connected depeartments count:  7  And they are:  ['1', '15', '3', '14', '6', '23', '27']\n"
     ]
    }
   ],
   "source": [
    "#CODE:\n",
    "nodeAttrList = nx.get_node_attributes(emailsGraph, 'department')\n",
    "\n",
    "groupedAttrList = {}\n",
    "for pair in nodeAttrList.items():\n",
    "    if pair[1] not in groupedAttrList.keys():\n",
    "        groupedAttrList[pair[1]] = []\n",
    "\n",
    "    groupedAttrList[pair[1]].append(pair[0])\n",
    "    \n",
    "\n",
    "count = 0\n",
    "top_department = {}\n",
    "for department, individualList in groupedAttrList.items():\n",
    "    if len(individualList) >= 10:\n",
    "        count += 1\n",
    "        top_department[department] = individualList\n",
    "\n",
    "\n",
    "\n",
    "subGraphlist = []\n",
    "\n",
    "for department, individualList in top_department.items():\n",
    "   subGraphlist.append([department,emailsGraph.subgraph(individualList).copy()])\n",
    "    \n",
    "overallRep = nx.overall_reciprocity(emailsGraph)\n",
    "overallTranstivity = nx.transitivity(emailsGraph)\n",
    "\n",
    "tightlyConnected = []\n",
    "weaklyConnected = []\n",
    "for subgraph in subGraphlist:\n",
    "    if nx.overall_reciprocity(subgraph[1]) > overallRep and nx.transitivity(subgraph[1]) >overallTranstivity :\n",
    "        tightlyConnected.append([subgraph[0],subgraph[1]])\n",
    "    else:\n",
    "        weaklyConnected.append([subgraph[0],subgraph[1]])\n",
    "        \n",
    "        \n",
    "\n",
    "\n",
    "\n",
    "print('Top departments count is: ', len(top_department), ' And they are: ' , top_department.keys())\n",
    "print ('Tightly connected depeartments count: ', len(tightlyConnected), ' And they are: ', [ele[0] for ele in tightlyConnected])\n",
    "\n",
    "print( 'not tightly connected depeartments count: ', len(weaklyConnected), ' And they are: ', [ele[0] for ele in weaklyConnected])\n"
   ]
  },
  {
   "cell_type": "raw",
   "id": "f8f3b14e-67a3-411b-b5c2-04a6cbfce9ce",
   "metadata": {},
   "source": [
    "Approach:\n",
    "a node attribute is generated, then the top depratments (>=10) with thier nodes are stored. a subgraph is generated for each deperatment it's reciprocity and transitivity is\n",
    "compared with the overall reciprocity and transitivy of the emails graph\n",
    "ANSWER: \n",
    "there is 28 departments that have 10 or more individuals. and yes 21 of them are tightly connected department and 7 are not tightly connected. \n",
    "--This operation could benefit from other implementations such manipluating data-strcutres to gain the top department rather than looping. which could be more performant at scale"
   ]
  }
 ],
 "metadata": {
  "interpreter": {
   "hash": "261351e09cec04b0ae9575e9ba42301b5ef064cf4f1d46d2e1d8255dbdff08b5"
  },
  "kernelspec": {
   "display_name": "Python 3.9.7 ('base')",
   "language": "python",
   "name": "python3"
  },
  "language_info": {
   "codemirror_mode": {
    "name": "ipython",
    "version": 3
   },
   "file_extension": ".py",
   "mimetype": "text/x-python",
   "name": "python",
   "nbconvert_exporter": "python",
   "pygments_lexer": "ipython3",
   "version": "3.9.7"
  }
 },
 "nbformat": 4,
 "nbformat_minor": 5
}
