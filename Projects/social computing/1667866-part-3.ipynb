{
 "cells": [
  {
   "cell_type": "markdown",
   "id": "bee8d307-1818-4d3e-86c7-8d3873393b5b",
   "metadata": {},
   "source": [
    "# Part 3: Peer-to-peer Message Behaviour Data Analysis"
   ]
  },
  {
   "cell_type": "markdown",
   "id": "f1a89661-48f9-433d-9ac3-00f94b220e76",
   "metadata": {
    "tags": []
   },
   "source": [
    "---"
   ]
  },
  {
   "cell_type": "markdown",
   "id": "775c58e9-c1bb-471e-8d7e-5ebcf36c750d",
   "metadata": {
    "tags": []
   },
   "source": [
    "### Install Python packages (pip only)"
   ]
  },
  {
   "cell_type": "code",
   "execution_count": 8,
   "id": "9c433636-63e8-45ac-91ab-df4598e50d3a",
   "metadata": {},
   "outputs": [
    {
     "name": "stdout",
     "output_type": "stream",
     "text": [
      "Requirement already satisfied: networkx in c:\\users\\hsr\\appdata\\local\\packages\\pythonsoftwarefoundation.python.3.10_qbz5n2kfra8p0\\localcache\\local-packages\\python310\\site-packages (2.8)\n",
      "Requirement already satisfied: ndlib in c:\\users\\hsr\\appdata\\local\\packages\\pythonsoftwarefoundation.python.3.10_qbz5n2kfra8p0\\localcache\\local-packages\\python310\\site-packages (5.1.1)\n",
      "Requirement already satisfied: dynetx in c:\\users\\hsr\\appdata\\local\\packages\\pythonsoftwarefoundation.python.3.10_qbz5n2kfra8p0\\localcache\\local-packages\\python310\\site-packages (from ndlib) (0.3.1)\n",
      "Requirement already satisfied: scipy in c:\\users\\hsr\\appdata\\local\\packages\\pythonsoftwarefoundation.python.3.10_qbz5n2kfra8p0\\localcache\\local-packages\\python310\\site-packages (from ndlib) (1.8.0)\n",
      "Requirement already satisfied: python-igraph in c:\\users\\hsr\\appdata\\local\\packages\\pythonsoftwarefoundation.python.3.10_qbz5n2kfra8p0\\localcache\\local-packages\\python310\\site-packages (from ndlib) (0.9.10)\n",
      "Requirement already satisfied: numpy in c:\\users\\hsr\\appdata\\local\\packages\\pythonsoftwarefoundation.python.3.10_qbz5n2kfra8p0\\localcache\\local-packages\\python310\\site-packages (from ndlib) (1.22.3)\n",
      "Requirement already satisfied: future in c:\\users\\hsr\\appdata\\local\\packages\\pythonsoftwarefoundation.python.3.10_qbz5n2kfra8p0\\localcache\\local-packages\\python310\\site-packages (from ndlib) (0.18.2)\n",
      "Requirement already satisfied: netdispatch in c:\\users\\hsr\\appdata\\local\\packages\\pythonsoftwarefoundation.python.3.10_qbz5n2kfra8p0\\localcache\\local-packages\\python310\\site-packages (from ndlib) (0.1.0)\n",
      "Requirement already satisfied: bokeh in c:\\users\\hsr\\appdata\\local\\packages\\pythonsoftwarefoundation.python.3.10_qbz5n2kfra8p0\\localcache\\local-packages\\python310\\site-packages (from ndlib) (2.4.2)\n",
      "Requirement already satisfied: typing-extensions>=3.10.0 in c:\\users\\hsr\\appdata\\local\\packages\\pythonsoftwarefoundation.python.3.10_qbz5n2kfra8p0\\localcache\\local-packages\\python310\\site-packages (from bokeh->ndlib) (4.2.0)\n",
      "Requirement already satisfied: tornado>=5.1 in c:\\users\\hsr\\appdata\\local\\packages\\pythonsoftwarefoundation.python.3.10_qbz5n2kfra8p0\\localcache\\local-packages\\python310\\site-packages (from bokeh->ndlib) (6.1)\n",
      "Requirement already satisfied: pillow>=7.1.0 in c:\\users\\hsr\\appdata\\local\\packages\\pythonsoftwarefoundation.python.3.10_qbz5n2kfra8p0\\localcache\\local-packages\\python310\\site-packages (from bokeh->ndlib) (9.0.1)\n",
      "Requirement already satisfied: packaging>=16.8 in c:\\users\\hsr\\appdata\\local\\packages\\pythonsoftwarefoundation.python.3.10_qbz5n2kfra8p0\\localcache\\local-packages\\python310\\site-packages (from bokeh->ndlib) (21.3)\n",
      "Requirement already satisfied: PyYAML>=3.10 in c:\\users\\hsr\\appdata\\local\\packages\\pythonsoftwarefoundation.python.3.10_qbz5n2kfra8p0\\localcache\\local-packages\\python310\\site-packages (from bokeh->ndlib) (6.0)\n",
      "Requirement already satisfied: Jinja2>=2.9 in c:\\users\\hsr\\appdata\\local\\packages\\pythonsoftwarefoundation.python.3.10_qbz5n2kfra8p0\\localcache\\local-packages\\python310\\site-packages (from bokeh->ndlib) (3.0.3)\n",
      "Requirement already satisfied: tqdm in c:\\users\\hsr\\appdata\\local\\packages\\pythonsoftwarefoundation.python.3.10_qbz5n2kfra8p0\\localcache\\local-packages\\python310\\site-packages (from dynetx->ndlib) (4.63.0)\n",
      "Requirement already satisfied: decorator in c:\\users\\hsr\\appdata\\local\\packages\\pythonsoftwarefoundation.python.3.10_qbz5n2kfra8p0\\localcache\\local-packages\\python310\\site-packages (from dynetx->ndlib) (5.1.1)\n",
      "Requirement already satisfied: igraph==0.9.10 in c:\\users\\hsr\\appdata\\local\\packages\\pythonsoftwarefoundation.python.3.10_qbz5n2kfra8p0\\localcache\\local-packages\\python310\\site-packages (from python-igraph->ndlib) (0.9.10)\n",
      "Requirement already satisfied: texttable>=1.6.2 in c:\\users\\hsr\\appdata\\local\\packages\\pythonsoftwarefoundation.python.3.10_qbz5n2kfra8p0\\localcache\\local-packages\\python310\\site-packages (from igraph==0.9.10->python-igraph->ndlib) (1.6.4)\n",
      "Requirement already satisfied: MarkupSafe>=2.0 in c:\\users\\hsr\\appdata\\local\\packages\\pythonsoftwarefoundation.python.3.10_qbz5n2kfra8p0\\localcache\\local-packages\\python310\\site-packages (from Jinja2>=2.9->bokeh->ndlib) (2.1.1)\n",
      "Requirement already satisfied: pyparsing!=3.0.5,>=2.0.2 in c:\\users\\hsr\\appdata\\local\\packages\\pythonsoftwarefoundation.python.3.10_qbz5n2kfra8p0\\localcache\\local-packages\\python310\\site-packages (from packaging>=16.8->bokeh->ndlib) (3.0.7)\n",
      "Requirement already satisfied: colorama in c:\\users\\hsr\\appdata\\local\\packages\\pythonsoftwarefoundation.python.3.10_qbz5n2kfra8p0\\localcache\\local-packages\\python310\\site-packages (from tqdm->dynetx->ndlib) (0.4.4)\n",
      "Note: you may need to restart the kernel to use updated packages.\n"
     ]
    },
    {
     "name": "stderr",
     "output_type": "stream",
     "text": [
      "WARNING: You are using pip version 22.0.4; however, version 22.1 is available.\n",
      "You should consider upgrading via the 'C:\\Users\\HSR\\AppData\\Local\\Microsoft\\WindowsApps\\PythonSoftwareFoundation.Python.3.10_qbz5n2kfra8p0\\python.exe -m pip install --upgrade pip' command.\n"
     ]
    }
   ],
   "source": [
    "%pip install networkx ndlib\n",
    "\n"
   ]
  },
  {
   "cell_type": "markdown",
   "id": "27a98e79-7408-4b7e-9937-f0611b21dc21",
   "metadata": {},
   "source": [
    "### Import Python packages"
   ]
  },
  {
   "cell_type": "code",
   "execution_count": 9,
   "id": "02b645ed-b469-45e6-ba5b-1c70e7efd7f1",
   "metadata": {},
   "outputs": [],
   "source": [
    "import networkx as nx\n",
    "import pandas as pd\n",
    "import datetime\n",
    "import csv\n",
    "import operator\n",
    "import numpy as np\n",
    "import matplotlib.pyplot as plt\n",
    "%matplotlib inline \n",
    "plt.rcParams['figure.figsize'] = (4.0, 2.0)\n",
    "import numpy as np\n",
    "import operator\n",
    "import random\n",
    "\n",
    "import ndlib.models.ModelConfig as mc\n",
    "import ndlib.models.epidemics as ep\n",
    "import ndlib.models.CompositeModel as gc\n",
    "import ndlib.models.compartments as cs\n",
    "from ndlib.utils import multi_runs\n",
    "from ndlib.viz.mpl.DiffusionTrend import DiffusionTrend"
   ]
  },
  {
   "cell_type": "markdown",
   "id": "33e292c7-df21-4fe9-b720-c21acdd2ceb3",
   "metadata": {},
   "source": [
    "---"
   ]
  },
  {
   "cell_type": "markdown",
   "id": "3db29460-d751-47b9-a597-7f466a9e7f8f",
   "metadata": {
    "tags": []
   },
   "source": [
    "### Task 1 of 2\n",
    "\n",
    "Examine the file \"p2p_msg_cmt224.csv\" which represents messaging behaviour between users on a messaging platform. Each row has four columns, representing a single event where a person (person_a) messaged another person (person_b) on some date (date) at some time of day (time). From this, answer the following questions:"
   ]
  },
  {
   "cell_type": "markdown",
   "id": "4f77652a-85fa-4fe6-b7e6-d95827082ca2",
   "metadata": {
    "tags": []
   },
   "source": [
    "##### Q1. Build a suitable network to represent social connections based on the messaging behaviour that took place up to and including the first day of May. In doing so, assume that one or more messages from one person to another represents a MUTUAL underlying social connection (i.e., regardless of whether person_a messaged person_b, vice versa, or both). \n",
    "\n",
    "##### What non-existent edges would need to be added to the network such that a message could pass along a path from any node to any other? In doing so, aim to minimise the longest shortest path in the network."
   ]
  },
  {
   "cell_type": "code",
   "execution_count": 10,
   "id": "3a1fae4d-a6b8-4c71-aaba-1dfaff94252c",
   "metadata": {},
   "outputs": [
    {
     "name": "stdout",
     "output_type": "stream",
     "text": [
      "(41, 0.15837937384898712)\n",
      "longest shortest path:  7\n"
     ]
    }
   ],
   "source": [
    "#CODE:\n",
    "output_rows = []\n",
    "with open('p2p_msg_cmt224.csv', newline='') as f:\n",
    "    reader = csv.reader(f)\n",
    "    headers = next(reader)\n",
    "    for row in reader:\n",
    "        row[0] = int(row[0])\n",
    "        row[1] = int(row[1])\n",
    "        row[2] = datetime.datetime.strptime(row[2], \"%d/%m/%Y\").date()\n",
    "\n",
    "        if (row[2] <=datetime.datetime.strptime('01/05/2004', \"%d/%m/%Y\").date()):\n",
    "            output_rows.append(row)\n",
    "\n",
    "# Write out a new csv (if required)\n",
    "\n",
    "df = pd.DataFrame(output_rows,columns=['person_a','person_b','date','time'])\n",
    "mygraph = nx.from_pandas_edgelist(df,source='person_a',target='person_b',edge_attr=['date','time'], create_using=nx.Graph)\n",
    "connectedcomp = sorted(nx.connected_components(mygraph))\n",
    "print(sorted([(node[0],node[1]) for node in nx.degree_centrality(mygraph).items()], key=operator.itemgetter(1), reverse =True)[0])\n",
    "\n",
    "#print(nx.is_connected(mygraph))\n",
    "mygraph.add_edge(230,41)\n",
    "mygraph.add_edge(426,41)\n",
    "mygraph.add_edge(433,41)\n",
    "\n",
    "#print(nx.is_connected(mygraph))\n",
    "print ('longest shortest path: ', nx.diameter(mygraph))\n",
    "\n",
    "#df\n"
   ]
  },
  {
   "cell_type": "raw",
   "id": "f5d080d0-8837-4605-8926-50eb6bd7d020",
   "metadata": {},
   "source": [
    "Approach and Answer:\n",
    "to get messeges up to may, a dataframe is generated based on the csv file as per the requiremnts (date <= 01/05/2004)\n",
    "a graph is then generated to represent the data. the connected components of the graph are stored.\n",
    "from the the largest connected compoenent, we take the node with the highest centrality degree and connect it to smaller connected componenets.\n",
    "node 41 had 0.15 centrality (highest)\n",
    "has been connected to node 230, 426 and 433 (smaller connected components). \n",
    "The longest shortes path was 7\n",
    "I have tried multiple Approaches such as clossness and betweens centrality and they yielded the same diameter/ longest shortes path."
   ]
  },
  {
   "cell_type": "markdown",
   "id": "27a76d52-6471-4695-826c-788e3078fab9",
   "metadata": {},
   "source": [
    "##### Q2. Build a suitable network to represent social connections based on the cumulation of ALL message behaviour in the dataset. In doing so, assume that one or messages from one person to another represents a MUTUAL underlying social connection (i.e., regardless of whether person_a messaged person_b, vice versa, or both).\n",
    "\n",
    "##### Can the social phenomenon, ‘Triadic Closure’, be supported for the COMMON nodes that exist in both the network created from data up to and including the first day of May (i.e., from Task 1, Q1) and the cumulative network?"
   ]
  },
  {
   "cell_type": "code",
   "execution_count": 11,
   "id": "d1808c52-538f-4461-b8be-5adc186a3592",
   "metadata": {},
   "outputs": [
    {
     "name": "stdout",
     "output_type": "stream",
     "text": [
      "Transitivity of the messages graph up to may:  0.048\n",
      "Transitivity of all the messages graph:  0.086\n"
     ]
    }
   ],
   "source": [
    "#CODE:\n",
    "messagingCSV = pd.read_csv('p2p_msg_cmt224.csv')\n",
    "msgGraph = nx.from_pandas_edgelist(messagingCSV,source='person_a',target='person_b',edge_attr=['date','time'], create_using=nx.Graph)\n",
    "print('Transitivity of the messages graph up to may: ','%0.3f' %nx.transitivity(mygraph))\n",
    "print('Transitivity of all the messages graph: ', '%0.3f' %nx.transitivity((msgGraph.subgraph(mygraph.nodes()))))\n"
   ]
  },
  {
   "cell_type": "raw",
   "id": "ed938505-3426-4965-8e5b-7a63119f710b",
   "metadata": {},
   "source": [
    "Approach:\n",
    "After loading the data and creating a graph from the data, and by using the graph obtained from the previous question (msg up to may). we calucalte the \n",
    "transitivity of both graphs and compare them.\n",
    "ANSWER: \n",
    "The transitivity has increased dramatically since messages from may (over time) this is indicative of of a triadic clouser phenmenon. from (0.048) to (0.086)."
   ]
  },
  {
   "cell_type": "markdown",
   "id": "b2c69305-9297-4f3f-8248-537c45bb605e",
   "metadata": {},
   "source": [
    "##### Q3. Using the largest connected component of the cumulative network constructed in Task 1, Q2, what is the average and standard deviation of the MAXIMUM degree of separation between an individual and all others?"
   ]
  },
  {
   "cell_type": "code",
   "execution_count": 12,
   "id": "93070886-bcfc-4b6e-846f-a25720c850ca",
   "metadata": {},
   "outputs": [
    {
     "name": "stdout",
     "output_type": "stream",
     "text": [
      "Average eccentricty of the largest connected compoenent sub-graph:  5.53\n",
      "Standard deviation of the largest connected componenet sub-graph:  0.57\n"
     ]
    }
   ],
   "source": [
    "#CODE:\n",
    "largestconnectedcomponent = sorted(nx.connected_components(msgGraph), key = len,reverse=True)[0]\n",
    "lccSub = msgGraph.subgraph(largestconnectedcomponent).copy()\n",
    "\n",
    "subEccentricity = list(nx.eccentricity(lccSub).values())\n",
    "\n",
    "print('Average eccentricty of the largest connected compoenent sub-graph: ', '%0.2f' %np.mean(subEccentricity))\n",
    "print('Standard deviation of the largest connected componenet sub-graph: ', '%0.2f' %np.std(subEccentricity))\n"
   ]
  },
  {
   "cell_type": "raw",
   "id": "d58ae102-2739-4063-a39a-d2c58c3204c6",
   "metadata": {},
   "source": [
    "Approach:\n",
    "the largest connected compoenent is stored then a subgraph from it is generated, the eccentricity of the subgraph nodes is calucalted, and the average eccentricities\n",
    " and standard deviation for eccentricities is calucalted.\n",
    "ANSWER: \n",
    "the average of maximum degree of sepration between an individual and all others is 5.53\n",
    "and the standard deviation of the maximum degree of sepration between an individual and all other is 0.57"
   ]
  },
  {
   "cell_type": "markdown",
   "id": "eaa92191-51cc-4f9d-966c-b8cd5de3d80d",
   "metadata": {
    "tags": []
   },
   "source": [
    "### Task 2 of 2 \n",
    "\n",
    "Using the largest connected component of the cumulative social network constructed in Task 1, Q2, assume the role of an outsider with complete visibility of the network that now wishes to spread a hypothetical message such that everyone in the component would know the information it contained as quickly as possible. \n",
    "\n",
    "Assume that messages will now spread in sequential timesteps using the following mechanism. If an individual is told the message at timestep 𝑡, the individual will forward the message to all of their direct connections at timestep 𝑡+1. Individuals can therefore be told the message more than once. From this, answer the following questions:"
   ]
  },
  {
   "cell_type": "markdown",
   "id": "23e447d7-e1a4-40d7-a4af-a7e4f6c2a214",
   "metadata": {},
   "source": [
    "##### Q1. If you could only select 1 individual to tell at timestep 0, what nodes could you select which would result in the message being received by everyone in the fewest timesteps as possible and what would the number of timesteps be?"
   ]
  },
  {
   "cell_type": "code",
   "execution_count": 13,
   "id": "75ea9640-98fd-4cf6-948c-ea57db8d82ac",
   "metadata": {},
   "outputs": [
    {
     "name": "stdout",
     "output_type": "stream",
     "text": [
      "Initial infected node using closeness centrality is :  [32]\n",
      "\n",
      "Threshold met = True after 4 iterations.\n"
     ]
    },
    {
     "data": {
      "image/png": "[encoded data removed]",
      "text/plain": [
       "<Figure size 1440x720 with 1 Axes>"
      ]
     },
     "metadata": {
      "needs_background": "light"
     },
     "output_type": "display_data"
    }
   ],
   "source": [
    "#CODE:\n",
    "\n",
    "def runSIModelOnANetwork(G, b, i, initial_infected=None, fraction_infected=None, model_seed=1):\n",
    "\n",
    "    model = ep.SIModel(G, seed=model_seed)\n",
    "    model_configuration = mc.Configuration()\n",
    "\n",
    "    model_configuration.add_model_parameter('beta', b)\n",
    "\n",
    "    if initial_infected is not None:\n",
    "        model_configuration.add_model_initial_configuration(\"Infected\", initial_infected)\n",
    "    else:\n",
    "        model_configuration.add_model_parameter(\"fraction_infected\", fraction_infected) \n",
    "        \n",
    "    model.set_initial_status(model_configuration)\n",
    "    iterations = model.iteration_bunch(i)\n",
    "    \n",
    "    return model, iterations\n",
    "\n",
    "def evaluateModel(network, model, trends, threshold):\n",
    "    \n",
    "    trends = model.build_trends(iterations)\n",
    "\n",
    "    diffusion_trend = DiffusionTrend(model, trends)\n",
    "\n",
    "    results = calculate_iterations_to_reach_threshold( \n",
    "        trends,\n",
    "        network.number_of_nodes(),\n",
    "        threshold,\n",
    "        False\n",
    "    )\n",
    "    \n",
    "    return diffusion_trend, results\n",
    "\n",
    "\n",
    "def calculate_iterations_to_reach_threshold(trends, number_of_nodes, threshold, verbose=False):\n",
    "    threshold_as_number_of_nodes = (number_of_nodes*threshold)\n",
    "    \n",
    "    iteration_counts_per_simulation = []\n",
    "    \n",
    "  \n",
    "    for simulation in trends:\n",
    "        \n",
    "        number_infected_per_iteration = simulation[\"trends\"][\"node_count\"][1]\n",
    "        \n",
    "  \n",
    "        threshold_met = False\n",
    "        iteration_count = 0\n",
    "        for iteration, number_infected in enumerate(number_infected_per_iteration):\n",
    "           \n",
    "            if verbose:\n",
    "                print(\"Iteration: %s     Number infected: %d     (%.2f)\" % (iteration, number_infected, number_infected / number_of_nodes))\n",
    "            \n",
    "            if number_infected < threshold_as_number_of_nodes:\n",
    "                threshold_met = True\n",
    "                iteration_count += 1\n",
    "            else:\n",
    "                break\n",
    "                \n",
    "            \n",
    "            \n",
    "        iteration_counts_per_simulation.append((threshold_met, iteration_count))\n",
    "        \n",
    "    return iteration_counts_per_simulation\n",
    "\n",
    "\n",
    "\n",
    "network = lccSub                    # Set the network to be used, in this case the NetworkX Graph object, G\n",
    "\n",
    "beta = 1.0                   # Set the global probability of \"infection\"/information spreading\n",
    "number_of_iterations = 50      # Set the number of iterations\n",
    "\n",
    "k = 1            # Set the number of nodes to be the initial \"infected\"/sources of the information\n",
    "\n",
    "s = 200                         # Set the random seed for the model to use\n",
    "\n",
    "evaluation_threshold = 1.0000000\n",
    "\n",
    "degree_centrality = sorted(\n",
    "    [(node[0], node[1]) for node in nx.degree_centrality(lccSub).items()], \n",
    "    key=operator.itemgetter(1), \n",
    "    reverse=True\n",
    ")\n",
    "\n",
    "closeness_centrality = sorted(\n",
    "    [(node[0], node[1]) for node in nx.closeness_centrality(lccSub).items()], \n",
    "    key=operator.itemgetter(1), \n",
    "    reverse=True\n",
    ")\n",
    "\n",
    "betweenness_centrality = sorted(\n",
    "    [(node[0], node[1]) for node in nx.betweenness_centrality(lccSub).items()], \n",
    "    key=operator.itemgetter(1), \n",
    "    reverse=True\n",
    ")\n",
    "initial_infected_nodes = [node[0] for node in closeness_centrality[:k]]\n",
    "\n",
    "model, iterations = runSIModelOnANetwork( \n",
    "    network,\n",
    "    beta,\n",
    "    number_of_iterations,\n",
    "    initial_infected = initial_infected_nodes,\n",
    "    model_seed = s\n",
    ")\n",
    "\n",
    "diffusion_trend, threshold_analysis = evaluateModel(\n",
    "    network,\n",
    "    model, \n",
    "    iterations, \n",
    "    evaluation_threshold,\n",
    ")\n",
    "\n",
    "\n",
    "\n",
    "\n",
    "print('Initial infected node using closeness centrality is : ' , (initial_infected_nodes)) # Print our the initial nodes used\n",
    "print(\"\\nThreshold met = %s after %i iterations.\" % (threshold_analysis[0][0], threshold_analysis[0][1]))\n",
    "\n",
    "diffusion_trend.plot()\n",
    "plt.show()\n"
   ]
  },
  {
   "cell_type": "raw",
   "id": "f20f5387-43e7-4846-923e-bc0c3a9055dd",
   "metadata": {},
   "source": [
    "Approach:\n",
    "first, the model is to be chosen, for this implemnation the SI model is utilized (Susceptible (S) to Infected (I)). \n",
    "for the chosen model, it's configuration is set to match the specs of the question, beta was set to value 1, to reflect when a message is recived is forwarded to all connected nodes.\n",
    "threshold is also set to 1, which implies stoping once all nodes recived the message. k is set to one as only 1 node is required, and the iterations can vary depending on the computing power, was\n",
    "set to 50.\n",
    "the lccsub graph from the prvious question is processed in the model \n",
    "\n",
    "ANSWER: \n",
    "Initial infected node using closeness centrality is: [32] and was reached in 4 iterations\n",
    "\n",
    "--I have tried betweenes and degree centrality but the closeness centrality was the best to deliver the message in the least iterations"
   ]
  },
  {
   "cell_type": "markdown",
   "id": "7161ea1f-f955-49fd-b612-64dfa50adf6e",
   "metadata": {},
   "source": [
    "##### Q2. If you had to select any 5 individuals to tell at timestep 0, what is an example set of individuals that would result in the message being received by everyone in fewer timesteps than the single individual selection in Q1? In determining your answer, use an appropriate network connectivity measure for each node, rather than an exhaustive search through every combination."
   ]
  },
  {
   "cell_type": "code",
   "execution_count": 14,
   "id": "598d85c4-4cf4-4444-b091-166f70ca6ac3",
   "metadata": {},
   "outputs": [
    {
     "name": "stdout",
     "output_type": "stream",
     "text": [
      "Initial infected nodes using closeness centrality are :  [32, 105, 9, 3, 638]\n",
      "\n",
      "Threshold met = True after 4 iterations.\n"
     ]
    },
    {
     "data": {
      "image/png": "[encoded data removed]",
      "text/plain": [
       "<Figure size 1440x720 with 1 Axes>"
      ]
     },
     "metadata": {
      "needs_background": "light"
     },
     "output_type": "display_data"
    }
   ],
   "source": [
    "#CODE:\n",
    "\n",
    "network = lccSub                    # Set the network to be used, in this case the NetworkX Graph object, G\n",
    "\n",
    "beta = 1.0                   # Set the global probability of \"infection\"/information spreading\n",
    "number_of_iterations = 50      # Set the number of iterations\n",
    "\n",
    "k = 5           # Set the number of nodes to be the initial \"infected\"/sources of the information\n",
    "\n",
    "s = 200                         # Set the random seed for the model to use\n",
    "\n",
    "evaluation_threshold = 1.0000000\n",
    "\n",
    "degree_centrality = sorted(\n",
    "    [(node[0], node[1]) for node in nx.degree_centrality(lccSub).items()], \n",
    "    key=operator.itemgetter(1), \n",
    "    reverse=True\n",
    ")\n",
    "\n",
    "closeness_centrality = sorted(\n",
    "    [(node[0], node[1]) for node in nx.closeness_centrality(lccSub).items()], \n",
    "    key=operator.itemgetter(1), \n",
    "    reverse=True\n",
    ")\n",
    "\n",
    "betweenness_centrality = sorted(\n",
    "    [(node[0], node[1]) for node in nx.betweenness_centrality(lccSub).items()], \n",
    "    key=operator.itemgetter(1), \n",
    "    reverse=True\n",
    ")\n",
    "initial_infected_nodes = [node[0] for node in closeness_centrality[:k]]\n",
    "\n",
    "model, iterations = runSIModelOnANetwork( # Configure and run the model using the method created earlier\n",
    "    network,\n",
    "    beta,\n",
    "    number_of_iterations,\n",
    "    initial_infected = initial_infected_nodes,\n",
    "    model_seed = s\n",
    ")\n",
    "\n",
    "diffusion_trend, threshold_analysis = evaluateModel(\n",
    "    network,\n",
    "    model, \n",
    "    iterations, \n",
    "    evaluation_threshold,\n",
    ")\n",
    "\n",
    "\n",
    "\n",
    "\n",
    "print('Initial infected nodes using closeness centrality are : ', (initial_infected_nodes)) # Print our the initial nodes used\n",
    "print(\"\\nThreshold met = %s after %i iterations.\" % (threshold_analysis[0][0], threshold_analysis[0][1]))\n",
    "\n",
    "diffusion_trend.plot()\n",
    "plt.show()"
   ]
  },
  {
   "cell_type": "raw",
   "id": "4945b93d-5b7b-451b-8496-f90e3405d544",
   "metadata": {},
   "source": [
    "Approach:\n",
    "first, the model is to be chosen, for this implemnation the SI model is utilized (Susceptible (S) to Infected (I)). \n",
    "for the chosen model, it's configuration is set to match the specs of the question, beta was set to value 1, to reflect when a message is recived is forwarded to all connected nodes.\n",
    "threshold is also set to 1, which implies stoping once all nodes recived the message. k is set to five as only 5 node is required, and the iterations can vary depending on the computing power, was\n",
    "set to 50.\n",
    "the lccsub graph from the prvious question is processed in the model \n",
    "\n",
    "ANSWER: \n",
    "Initial infected nodes using closeness centrality are: [32, 105, 9, 3, 638] and was reached in 4 iterations\n",
    "\n"
   ]
  }
 ],
 "metadata": {
  "interpreter": {
   "hash": "b91f6243e4d9626280f5bf56e3056a00c80ab0f5b74d1b323f7286633ca13a97"
  },
  "kernelspec": {
   "display_name": "Python 3.10.4 64-bit (windows store)",
   "language": "python",
   "name": "python3"
  },
  "language_info": {
   "codemirror_mode": {
    "name": "ipython",
    "version": 3
   },
   "file_extension": ".py",
   "mimetype": "text/x-python",
   "name": "python",
   "nbconvert_exporter": "python",
   "pygments_lexer": "ipython3",
   "version": "3.10.4"
  }
 },
 "nbformat": 4,
 "nbformat_minor": 5
}
