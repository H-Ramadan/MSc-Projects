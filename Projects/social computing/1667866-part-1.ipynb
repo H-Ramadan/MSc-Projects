{
 "cells": [
  {
   "cell_type": "markdown",
   "id": "a1f89f09-3153-4e19-82b5-d168d382809b",
   "metadata": {},
   "source": [
    "# Part 1: Social Media Behaviour Data Analysis"
   ]
  },
  {
   "cell_type": "markdown",
   "id": "b7273255-ab87-4c85-951d-b03c7cad8023",
   "metadata": {
    "tags": []
   },
   "source": [
    "\n",
    "---"
   ]
  },
  {
   "cell_type": "markdown",
   "id": "e1ccb25c-1685-484a-bf08-c4bc9acd9cf3",
   "metadata": {
    "tags": []
   },
   "source": [
    "### Install Python packages (pip only)"
   ]
  },
  {
   "cell_type": "code",
   "execution_count": 1,
   "id": "f4e03f4e-9153-4f7d-ae6f-2f89909a1288",
   "metadata": {},
   "outputs": [],
   "source": [
    "#pip install networkx\n"
   ]
  },
  {
   "cell_type": "markdown",
   "id": "2b8621e2-e003-46b7-be7b-20a3f167559a",
   "metadata": {
    "tags": []
   },
   "source": [
    "### Import Python packages"
   ]
  },
  {
   "cell_type": "code",
   "execution_count": 2,
   "id": "d7c00360-c9d4-4781-b9e5-0181f1652bb8",
   "metadata": {},
   "outputs": [],
   "source": [
    "import networkx as nx\n",
    "import operator\n",
    "from scipy import stats"
   ]
  },
  {
   "cell_type": "markdown",
   "id": "ffa95b1b-31b8-44ad-9e9c-e2299b8cd2cf",
   "metadata": {},
   "source": [
    "---"
   ]
  },
  {
   "cell_type": "markdown",
   "id": "aa9a6985-71fb-4810-8dad-cd171aedf8a9",
   "metadata": {
    "tags": []
   },
   "source": [
    "### Task 1 of 1\n",
    "\n",
    "Examine the Graph Modelling Language (gml) files \"socialmedia_cmt224_reply_network.gml\" (reply network) and \"socialmedia_cmt224_social_network.gml\" (social network) which represent Twitter data between a sample of users over several days at the time of the Higgs boson particle discovery. Both networks are directed and share the same ids for nodes (anonymised Twitter users).\n",
    "\n",
    "In the reply network, an edge from a node, 𝑢, to some other node, 𝑣, indicates that 𝑢 replied to a Tweet made by 𝑣 during the time period. Replies are also Tweets. Edges are weighted with the weight representing the number of times this happened over the time period.\n",
    "\n",
    "In the social network, an edge from node 𝑢 to 𝑣 indicates that 𝑢 follows 𝑣 on the social media platform.\n",
    "\n",
    "Using these networks, answer the following questions:"
   ]
  },
  {
   "cell_type": "markdown",
   "id": "2e51a390-c558-451c-8f1e-3009d9fdd525",
   "metadata": {
    "tags": []
   },
   "source": [
    "##### Q1. How does the topological structure of the reply network differ from the social network in terms of overall sparsity of edges between users and the number of connected groups of users?"
   ]
  },
  {
   "cell_type": "code",
   "execution_count": 3,
   "id": "23d86c8c-c4fe-4fff-a741-84694bfc1b7e",
   "metadata": {},
   "outputs": [
    {
     "name": "stdout",
     "output_type": "stream",
     "text": [
      "social network graph Density is 0.00060\n",
      "reply network graph Density is 0.00002\n",
      "social network graph connected group of users(using strongly connected components function) 9146\n",
      "reply network graph connected group of users(using strongly connected components function) 36132\n"
     ]
    }
   ],
   "source": [
    "#CODE:\n",
    "followGraph, replyGraph= nx.read_gml('socialmedia_cmt224_social_network.gml'), nx.read_gml(\"socialmedia_cmt224_reply_network.gml\") #loading gml file\n",
    "followDensity, replyDensity = nx.density(followGraph), nx.density(replyGraph) #density calc\n",
    "followStronglyConnected, replyStronglyConnected = nx.number_strongly_connected_components(followGraph), nx.number_strongly_connected_components(replyGraph) #strongly connected comps\n",
    "print(\"social network graph Density is %0.5f\"%followDensity + \"\\n\"+\n",
    "      \"reply network graph Density is %0.5f\"%replyDensity)\n",
    "print(\"social network graph connected group of users(using strongly connected components function) \"+  str(followStronglyConnected)+\"\\n\"+\n",
    "      \"reply network graph connected group of users(using strongly connected components function) \"+ str(replyStronglyConnected))"
   ]
  },
  {
   "cell_type": "raw",
   "id": "b6b3e307-f386-4417-9e9a-40a3de16a996",
   "metadata": {},
   "source": [
    "Approach:\n",
    "To specifiy which of the graphs is more sparse, the desnity for each is calculated. As this is a directed graph, the number of strongly connected compoenents is \n",
    "calculated for each network using nx function (number_strongly_connected_components)\n",
    "Answer:\n",
    "the reply network is more sparse (less dense) than the social network, However, the reply network has more connected compoenents in comparision with the social network."
   ]
  },
  {
   "cell_type": "markdown",
   "id": "0e2d2102-f4eb-4a4e-8289-c6b4f8a72e85",
   "metadata": {},
   "source": [
    "##### Q2. Do the 25 users with highest number of followers also have the highest number of repliers to their Tweets?"
   ]
  },
  {
   "cell_type": "code",
   "execution_count": 4,
   "id": "4515b14a-2a60-42e6-8c0e-4fd1d952203d",
   "metadata": {},
   "outputs": [
    {
     "name": "stdout",
     "output_type": "stream",
     "text": [
      "Top 25 followed users\n",
      " ['88', '677', '1503', '220', '352', '206', '317', '301', '3549', '1062', '1988', '138', '383', '979', '465', '8', '960', '2417', '965', '1274', '15', '3419', '407', '396', '205']\n",
      "Top 25 users with highest repliers\n",
      " ['88', '677', '220', '3549', '317', '349', '7690', '1988', '16460', '3369', '2177', '6940', '2014', '4368', '327', '9021', '4259', '9964', '3998', '216', '12281', '5245', '1880', '13808', '2280']\n",
      "Number of the top 25 followed users who are also presient in the top 25 most replied to tweets\n",
      " ['1988', '3549', '220', '677', '317', '88']  is:  6\n"
     ]
    }
   ],
   "source": [
    "#CODE: \n",
    "topFollowed = [i[0] for i in sorted(followGraph.in_degree(), reverse=True, key = operator.itemgetter(1))[:25]] #for loop top 25 follwed user\n",
    "topRepliedToTweets = [i[0] for i in sorted(replyGraph.in_degree(weight='occurences'), reverse=True, key = operator.itemgetter(1))[:25]] #Top 25 users with highest repliers\n",
    "print(\"Top 25 followed users\\n\", topFollowed)\n",
    "print(\"Top 25 users with highest repliers\\n\", topRepliedToTweets)\n",
    "print(\"Number of the top 25 followed users who are also presient in the top 25 most replied to tweets\\n\", list(set(topFollowed).intersection(topRepliedToTweets)), \n",
    "                                                                                                               ' is: ',len(list(set(topFollowed).intersection(topRepliedToTweets))))\n"
   ]
  },
  {
   "cell_type": "raw",
   "id": "052651f7-f191-4777-8bd0-8c8e29a93fb4",
   "metadata": {},
   "source": [
    "Approach: \n",
    "The first 25 top followed users are stored, then the top 25 top replied too tweets are stored. \n",
    "a set comparision is done between the two lists to see how many of the top 25 followed users have tweets in the top replied to tweets.\n",
    "Answer:\n",
    "only 6 of the top 25 \n",
    "followed users were found to have highly replied to tweets, thus the answer to the question is No."
   ]
  },
  {
   "cell_type": "markdown",
   "id": "a3403a75-d61c-4458-8d1d-018b6bd926db",
   "metadata": {},
   "source": [
    "##### Q3. To what extent does the number of followers a user has in the social network correlate with the number of users that they have replied to in the reply network?"
   ]
  },
  {
   "cell_type": "code",
   "execution_count": 5,
   "id": "e4139df4-2095-4241-8143-e9f14814d992",
   "metadata": {},
   "outputs": [
    {
     "name": "stdout",
     "output_type": "stream",
     "text": [
      "pearson r: -0.042 p: 0.000\n"
     ]
    }
   ],
   "source": [
    "#CODE:\n",
    "followGraphNodes = followGraph.nodes()\n",
    "numOfFollowers, numOfReplies = [i[1] for i in list(followGraph.in_degree(followGraphNodes))], [i[1] for i in list(replyGraph.out_degree(followGraphNodes))] \n",
    "r, p = stats.pearsonr(numOfFollowers, numOfReplies)\n",
    "print(\"pearson r: %.3f\"%r, \"p: %.3f\"%p)"
   ]
  },
  {
   "cell_type": "markdown",
   "id": "9a141e96",
   "metadata": {},
   "source": [
    "Approach:\n",
    "we get the number of nodes for the social graph then we store the number of followers for each node,\n",
    "a personr correlation test is then carried on the data.\n",
    "Answer:\n",
    "a significant weak negative corelation between the number of followers a user has to the number of users that they have replied to has been identfied. r: -0.042 p: 0.000"
   ]
  },
  {
   "cell_type": "markdown",
   "id": "e8297318-7065-41ac-84ee-20c67984090f",
   "metadata": {},
   "source": [
    "##### Q4. Do users typically ONLY reply to Tweets, are ONLY replied to, or BOTH?"
   ]
  },
  {
   "cell_type": "code",
   "execution_count": 6,
   "id": "26dbd7ae-c713-4f54-9e07-d213a22cf46a",
   "metadata": {},
   "outputs": [
    {
     "name": "stdout",
     "output_type": "stream",
     "text": [
      "Number of users that only reply to tweets 20332\n",
      "Number of users that are only replied to 11663\n",
      "Number of users who both reply and are replied to(both) 6923\n"
     ]
    }
   ],
   "source": [
    "#CODE:\n",
    "replyGraphNodes = replyGraph.nodes()\n",
    "outOnlyUsers, inOnlyUsers, normalUser = list(), list(), list()\n",
    "for user in replyGraphNodes:\n",
    "    inDegree = replyGraph.in_degree(user)\n",
    "    outDegree = replyGraph.out_degree(user)\n",
    "    if inDegree != 0 and outDegree != 0:\n",
    "        normalUser.append(user)\n",
    "    elif inDegree > 0 and outDegree == 0:\n",
    "        inOnlyUsers.append(user)\n",
    "    elif outDegree > 0 and inDegree == 0:\n",
    "        outOnlyUsers.append(user)\n",
    "    else:\n",
    "        print(\"error\")\n",
    "print(\"Number of users that only reply to tweets\", len(outOnlyUsers))\n",
    "print(\"Number of users that are only replied to\", len(inOnlyUsers))\n",
    "print(\"Number of users who both reply and are replied to(both)\",len(normalUser) )        \n",
    "\n"
   ]
  },
  {
   "cell_type": "raw",
   "id": "871ab384-9ac6-418e-b238-e8bc34354dfd",
   "metadata": {},
   "source": [
    "Soultion: \n",
    "the nodes for the reply graphs ARE stored, we use this information to further process and manilpulate these nodes. \n",
    "to detrmine if users only reply to Tweets, are only replied to, or both we loop over all repley nodes and generate and in degree and outdegree for each node (user) \n",
    "then we populate a list based on the status of this node, if a user only reply to tweets then then the outonlyusers list is updated, etc..\n",
    "we could see that \n",
    "Number of users that only reply to tweets 20332.\n",
    "Number of users that are only replied to 11663.\n",
    "Number of users who both reply and are replied to(both) 6923.\n",
    "\n",
    "Answer:\n",
    "typically users only reply to tweets based on the numbers obtained above (if we assume that typically corelate to more than 50% of the time)"
   ]
  },
  {
   "cell_type": "markdown",
   "id": "b08b10e2-2714-4f4e-a666-a1e0299e2ec7",
   "metadata": {},
   "source": [
    "##### Q5. Do the majority of users that ONLY reply to Tweets, ONLY do so to those users they are following?"
   ]
  },
  {
   "cell_type": "code",
   "execution_count": 7,
   "id": "e9f89982-57a5-4d4b-ba45-4adcc2b271fd",
   "metadata": {},
   "outputs": [
    {
     "name": "stdout",
     "output_type": "stream",
     "text": [
      "total number of users who only reply and only do so to thoes who are following :  17281  out of :  20332\n"
     ]
    }
   ],
   "source": [
    "#CODE:\n",
    "other = set()\n",
    "for node in outOnlyUsers:\n",
    "    replys = sorted(replyGraph.out_edges(node))\n",
    "    for reply in replys:\n",
    "        if not(followGraph.has_edge(reply[0],reply[1])):\n",
    "            other.add(node)\n",
    "            \n",
    "            \n",
    "print(\"total number of users who only reply and only do so to thoes who are following : \", len(outOnlyUsers)-len(other), \" out of : \",len(outOnlyUsers) )"
   ]
  },
  {
   "cell_type": "raw",
   "id": "7b189834-e00e-4524-a5f4-7950ecad3994",
   "metadata": {},
   "source": [
    "COMMENTARY: \n",
    "using outOnlyusers, we loop each node in this \n",
    "list and house there replyes from the reply graph. \n",
    "after doing so a nested loop looks through these replies and check if they are not following thoes who they replied too. this results \n",
    "in storing the value of thoes replies that are not following, \n",
    "The answer to the question is yes as 17281 out of 20332 of users who only reply do so to thoes who are following, around 85% of users!"
   ]
  },
  {
   "cell_type": "markdown",
   "id": "758e8192-3634-4b37-842c-5930b09861fe",
   "metadata": {},
   "source": [
    "##### Q6. How many users have ONLY mutual following connections (i.e., every user they follow also follows them) AND ONLY mutual reply connections with these SAME users?"
   ]
  },
  {
   "cell_type": "code",
   "execution_count": 8,
   "id": "fb84ca57-63bf-4519-be36-a514bfc2a6fe",
   "metadata": {},
   "outputs": [
    {
     "name": "stdout",
     "output_type": "stream",
     "text": [
      "The number of users that only have mutual connections:  1196\n",
      "The number of users that only have only mutual following and only mutual replies is:  189\n"
     ]
    }
   ],
   "source": [
    "#CODE:\n",
    "onlyMutualFollwoing = {k: v for k, v in nx.reciprocity(followGraph, followGraph.nodes()).items() if v ==1}\n",
    "count =0\n",
    "\n",
    "for node in onlyMutualFollwoing.items():\n",
    "    follows = []\n",
    "    for tup in followGraph.edges(node[0]):\n",
    "        follows.append((tup[1]))\n",
    "    isMutual = True\n",
    "    for follow in follows:\n",
    "        if (replyGraph.has_edge(node[0], follow) and replyGraph.has_edge(follow, node[0])):\n",
    "            pass\n",
    "        else: \n",
    "            isMutual = False\n",
    "    if  isMutual:\n",
    "        count +=1\n",
    "\n",
    "\n",
    "\n",
    "\n",
    "print('The number of users that only have mutual connections: ',len(onlyMutualFollwoing))\n",
    "print('The number of users that only have only mutual following and only mutual replies is: ', count)"
   ]
  },
  {
   "cell_type": "raw",
   "id": "04603234-769e-46b7-8025-01cf979418c6",
   "metadata": {},
   "source": [
    "Approach:\n",
    "By checking the reciporicty of nodes in the social graph the total number of users that only have mutual connections can be achived, reciprocity == 1.\n",
    "to caluclate if they onlymutual replies with these same users that they are following another check in the reply graph is needed to check wither there is bidirectional edge\n",
    "for thoes they are following and themselfs.\n",
    "ANSWER: \n",
    "the total number of users who only have mutual following is 1196,\n",
    "and the number of users that have ONLY mutual following connections AND ONLY mutual reply connections with these SAME users is : 189"
   ]
  }
 ],
 "metadata": {
  "interpreter": {
   "hash": "261351e09cec04b0ae9575e9ba42301b5ef064cf4f1d46d2e1d8255dbdff08b5"
  },
  "kernelspec": {
   "display_name": "Python 3.9.7 ('base')",
   "language": "python",
   "name": "python3"
  },
  "language_info": {
   "codemirror_mode": {
    "name": "ipython",
    "version": 3
   },
   "file_extension": ".py",
   "mimetype": "text/x-python",
   "name": "python",
   "nbconvert_exporter": "python",
   "pygments_lexer": "ipython3",
   "version": "3.9.7"
  }
 },
 "nbformat": 4,
 "nbformat_minor": 5
}
